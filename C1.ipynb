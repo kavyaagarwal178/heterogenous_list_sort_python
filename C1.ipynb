{
  "nbformat": 4,
  "nbformat_minor": 0,
  "metadata": {
    "colab": {
      "provenance": [],
      "authorship_tag": "ABX9TyNDNlnkpikRGfG5S6H/VC7G",
      "include_colab_link": true
    },
    "kernelspec": {
      "name": "python3",
      "display_name": "Python 3"
    },
    "language_info": {
      "name": "python"
    }
  },
  "cells": [
    {
      "cell_type": "markdown",
      "metadata": {
        "id": "view-in-github",
        "colab_type": "text"
      },
      "source": [
        "<a href=\"https://colab.research.google.com/github/kavyaagarwal178/heterogenous_list_sort_python/blob/main/C1.ipynb\" target=\"_parent\"><img src=\"https://colab.research.google.com/assets/colab-badge.svg\" alt=\"Open In Colab\"/></a>"
      ]
    },
    {
      "cell_type": "markdown",
      "source": [
        "**Challenge question 1: Write a python program to sort the list of heterogeneous data. e.g. L = [\"Ram\", 1, \"Shyam\", 2, \"Aman\", 3] print(L) L.sort() print(L)**"
      ],
      "metadata": {
        "id": "_Wj1hZWAqF6N"
      }
    },
    {
      "cell_type": "code",
      "source": [
        "def hetro(num):\n",
        "\ttry:\n",
        "\t\tele = int(num)\n",
        "\t\treturn (0, ele, '')\n",
        "\texcept ValueError:\n",
        "\t\treturn (1, num, '')\n",
        "L = [\"Ram\", 1, \"Shyam\", 2, \"Aman\", 3] \n",
        "print(\"The original list : \" + str(L))\n",
        "L.sort(key = hetro)\n",
        "print(\"List after mixed sorting : \" + str(L))"
      ],
      "metadata": {
        "id": "1enbMsAVCgIx"
      },
      "execution_count": null,
      "outputs": []
    }
  ]
}